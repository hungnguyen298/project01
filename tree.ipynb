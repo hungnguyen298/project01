{
 "cells": [
  {
   "cell_type": "code",
   "execution_count": 2,
   "id": "a4e54692",
   "metadata": {},
   "outputs": [],
   "source": [
    "# dựa theo bảng tree.csv\n",
    "from sklearn import tree\n",
    "import numpy as np"
   ]
  },
  {
   "cell_type": "code",
   "execution_count": null,
   "id": "51fc75e7",
   "metadata": {},
   "outputs": [],
   "source": [
    "# City: Ha Nọi(1), Da Nang(2), Ho Chi Minh(3)\n",
    "# Sex: Male(4), Female(5)\n",
    "# Salary: Upto 1000$(6), Upto 1500$(7), Upto 2000$(8)\n",
    "# Working hours: 8h/day(9), 10h/day(10)\n",
    "# 2nd job: Yes(11), No(12)\n",
    "# Output: Have a car at 35: Yes(0), No(1)"
   ]
  },
  {
   "cell_type": "code",
   "execution_count": 19,
   "id": "40fa4141",
   "metadata": {},
   "outputs": [
    {
     "name": "stdout",
     "output_type": "stream",
     "text": [
      "Person in line 16 don't have a car\n",
      "Person in line 17 don't have a car\n",
      "Person in line 18 have a car\n",
      "[1 1 0]\n"
     ]
    }
   ],
   "source": [
    "test = tree.DecisionTreeClassifier()\n",
    "featu = [[1,4,6,9,12],\n",
    "         [2,5,6,10,12],\n",
    "         [3,4,8,10,12],\n",
    "         [1,4,6,9,11],\n",
    "         [1,5,8,9,12],\n",
    "         [3,5,6,10,12],\n",
    "         [3,4,6,9,12],\n",
    "         [2,4,7,9,11],\n",
    "         [3,4,6,9,12],\n",
    "         [3,5,8,10,11],\n",
    "         [2,5,8,9,12],\n",
    "         [1,4,7,10,12],\n",
    "         [1,5,7,10,12],\n",
    "         [2,4,6,9,11],\n",
    "         [3,5,8,10,12]] \n",
    "HaveACar = (1,0,1,0,1,1,1,0,1,0,1,0,1,1,1)\n",
    "output = test.fit(featu,HaveACar)\n",
    "check = output.predict([[3,5,7,9,12],\n",
    "                       [2,4,6,10,11],\n",
    "                       [2,4,8,10,12]])\n",
    "for x, y in enumerate(check,16):\n",
    "    if y ==1:\n",
    "        print(\"Person in line\",x,\"don't have a car\")\n",
    "    else:\n",
    "        print(\"Person in line\",x,'have a car')\n",
    "print(check)"
   ]
  },
  {
   "cell_type": "code",
   "execution_count": null,
   "id": "56bde904",
   "metadata": {},
   "outputs": [],
   "source": []
  }
 ],
 "metadata": {
  "kernelspec": {
   "display_name": "Python 3 (ipykernel)",
   "language": "python",
   "name": "python3"
  },
  "language_info": {
   "codemirror_mode": {
    "name": "ipython",
    "version": 3
   },
   "file_extension": ".py",
   "mimetype": "text/x-python",
   "name": "python",
   "nbconvert_exporter": "python",
   "pygments_lexer": "ipython3",
   "version": "3.11.4"
  }
 },
 "nbformat": 4,
 "nbformat_minor": 5
}
